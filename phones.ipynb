{
 "cells": [
  {
   "cell_type": "code",
   "execution_count": 36,
   "metadata": {},
   "outputs": [],
   "source": [
    "### Package for data manipulation\n",
    "import pandas as pd\n",
    "import numpy as np\n",
    "\n",
    "### package for data visualisation\n",
    "import seaborn as sns\n",
    "import matplotlib.pyplot as plt\n"
   ]
  },
  {
   "cell_type": "markdown",
   "metadata": {},
   "source": [
    "### Import and Read Data"
   ]
  },
  {
   "cell_type": "code",
   "execution_count": 2,
   "metadata": {},
   "outputs": [
    {
     "data": {
      "text/html": [
       "<div>\n",
       "<style scoped>\n",
       "    .dataframe tbody tr th:only-of-type {\n",
       "        vertical-align: middle;\n",
       "    }\n",
       "\n",
       "    .dataframe tbody tr th {\n",
       "        vertical-align: top;\n",
       "    }\n",
       "\n",
       "    .dataframe thead th {\n",
       "        text-align: right;\n",
       "    }\n",
       "</style>\n",
       "<table border=\"1\" class=\"dataframe\">\n",
       "  <thead>\n",
       "    <tr style=\"text-align: right;\">\n",
       "      <th></th>\n",
       "      <th>Description</th>\n",
       "      <th>Price</th>\n",
       "      <th>Rating</th>\n",
       "      <th>ReviewCount</th>\n",
       "      <th>Url</th>\n",
       "    </tr>\n",
       "  </thead>\n",
       "  <tbody>\n",
       "    <tr>\n",
       "      <th>0</th>\n",
       "      <td>Apple iPhone 13 (128GB) - Pink</td>\n",
       "      <td>65999</td>\n",
       "      <td>4.6 out of 5 stars</td>\n",
       "      <td>7,507</td>\n",
       "      <td>https://www.amazon.in//sspa/click?ie=UTF8&amp;spc=...</td>\n",
       "    </tr>\n",
       "    <tr>\n",
       "      <th>1</th>\n",
       "      <td>Apple iPhone 13 Mini (128GB) - Pink</td>\n",
       "      <td>64900</td>\n",
       "      <td>4.5 out of 5 stars</td>\n",
       "      <td>1,341</td>\n",
       "      <td>https://www.amazon.in//sspa/click?ie=UTF8&amp;spc=...</td>\n",
       "    </tr>\n",
       "    <tr>\n",
       "      <th>2</th>\n",
       "      <td>Apple iPhone 12 (128GB) - Green</td>\n",
       "      <td>55999</td>\n",
       "      <td>4.5 out of 5 stars</td>\n",
       "      <td>4,941</td>\n",
       "      <td>https://www.amazon.in//New-Apple-iPhone-12-128...</td>\n",
       "    </tr>\n",
       "    <tr>\n",
       "      <th>3</th>\n",
       "      <td>Apple iPhone 12 (64GB) - Green</td>\n",
       "      <td>48900</td>\n",
       "      <td>4.6 out of 5 stars</td>\n",
       "      <td>1,299</td>\n",
       "      <td>https://www.amazon.in//New-Apple-iPhone-12-64G...</td>\n",
       "    </tr>\n",
       "  </tbody>\n",
       "</table>\n",
       "</div>"
      ],
      "text/plain": [
       "                           Description  Price              Rating ReviewCount  \\\n",
       "0       Apple iPhone 13 (128GB) - Pink  65999  4.6 out of 5 stars       7,507   \n",
       "1  Apple iPhone 13 Mini (128GB) - Pink  64900  4.5 out of 5 stars       1,341   \n",
       "2      Apple iPhone 12 (128GB) - Green  55999  4.5 out of 5 stars       4,941   \n",
       "3       Apple iPhone 12 (64GB) - Green  48900  4.6 out of 5 stars       1,299   \n",
       "\n",
       "                                                 Url  \n",
       "0  https://www.amazon.in//sspa/click?ie=UTF8&spc=...  \n",
       "1  https://www.amazon.in//sspa/click?ie=UTF8&spc=...  \n",
       "2  https://www.amazon.in//New-Apple-iPhone-12-128...  \n",
       "3  https://www.amazon.in//New-Apple-iPhone-12-64G...  "
      ]
     },
     "execution_count": 2,
     "metadata": {},
     "output_type": "execute_result"
    }
   ],
   "source": [
    "df = pd.read_csv('Amazon_top5_mobilephones.csv')\n",
    "df.head(4)"
   ]
  },
  {
   "cell_type": "code",
   "execution_count": 3,
   "metadata": {},
   "outputs": [
    {
     "data": {
      "text/plain": [
       "<bound method IndexOpsMixin.nunique of 0                          Apple iPhone 13 (128GB) - Pink\n",
       "1                     Apple iPhone 13 Mini (128GB) - Pink\n",
       "2                         Apple iPhone 12 (128GB) - Green\n",
       "3                          Apple iPhone 12 (64GB) - Green\n",
       "4                         Apple iPhone 13 (128GB) - Green\n",
       "                              ...                        \n",
       "1898    Vivo Y21 (Midnight Blue, 4GB RAM, 64GB Storage...\n",
       "1899    vivo Y22 (Metaverse Green, 6GB RAM, 128GB Stor...\n",
       "1900    Vivo Y33s (Mirror Black, 8GB RAM, 128GB Storag...\n",
       "1901    vivo Y35 (Agate Black, 8GB RAM, 128GB Storage)...\n",
       "1902    vivo Y16 (Stellar Black, 3GB RAM, 32GB Storage...\n",
       "Name: Description, Length: 1903, dtype: object>"
      ]
     },
     "execution_count": 3,
     "metadata": {},
     "output_type": "execute_result"
    }
   ],
   "source": [
    "df['Description'].nunique"
   ]
  },
  {
   "cell_type": "code",
   "execution_count": 4,
   "metadata": {},
   "outputs": [
    {
     "data": {
      "text/plain": [
       "(1903, 5)"
      ]
     },
     "execution_count": 4,
     "metadata": {},
     "output_type": "execute_result"
    }
   ],
   "source": [
    "df.shape"
   ]
  },
  {
   "cell_type": "markdown",
   "metadata": {},
   "source": [
    "### Making Necessary Changes in Data "
   ]
  },
  {
   "cell_type": "code",
   "execution_count": 5,
   "metadata": {},
   "outputs": [],
   "source": [
    "Mobile_company = df['Description'].str.split(n = 1, expand= True)"
   ]
  },
  {
   "cell_type": "code",
   "execution_count": 6,
   "metadata": {},
   "outputs": [
    {
     "data": {
      "text/html": [
       "<div>\n",
       "<style scoped>\n",
       "    .dataframe tbody tr th:only-of-type {\n",
       "        vertical-align: middle;\n",
       "    }\n",
       "\n",
       "    .dataframe tbody tr th {\n",
       "        vertical-align: top;\n",
       "    }\n",
       "\n",
       "    .dataframe thead th {\n",
       "        text-align: right;\n",
       "    }\n",
       "</style>\n",
       "<table border=\"1\" class=\"dataframe\">\n",
       "  <thead>\n",
       "    <tr style=\"text-align: right;\">\n",
       "      <th></th>\n",
       "      <th>0</th>\n",
       "      <th>1</th>\n",
       "    </tr>\n",
       "  </thead>\n",
       "  <tbody>\n",
       "    <tr>\n",
       "      <th>0</th>\n",
       "      <td>Apple</td>\n",
       "      <td>iPhone 13 (128GB) - Pink</td>\n",
       "    </tr>\n",
       "    <tr>\n",
       "      <th>1</th>\n",
       "      <td>Apple</td>\n",
       "      <td>iPhone 13 Mini (128GB) - Pink</td>\n",
       "    </tr>\n",
       "  </tbody>\n",
       "</table>\n",
       "</div>"
      ],
      "text/plain": [
       "       0                              1\n",
       "0  Apple       iPhone 13 (128GB) - Pink\n",
       "1  Apple  iPhone 13 Mini (128GB) - Pink"
      ]
     },
     "execution_count": 6,
     "metadata": {},
     "output_type": "execute_result"
    }
   ],
   "source": [
    "Mobile_company.head(2)"
   ]
  },
  {
   "cell_type": "code",
   "execution_count": 7,
   "metadata": {},
   "outputs": [],
   "source": [
    "df['Name'] = Mobile_company[0]"
   ]
  },
  {
   "cell_type": "code",
   "execution_count": 8,
   "metadata": {},
   "outputs": [
    {
     "data": {
      "text/html": [
       "<div>\n",
       "<style scoped>\n",
       "    .dataframe tbody tr th:only-of-type {\n",
       "        vertical-align: middle;\n",
       "    }\n",
       "\n",
       "    .dataframe tbody tr th {\n",
       "        vertical-align: top;\n",
       "    }\n",
       "\n",
       "    .dataframe thead th {\n",
       "        text-align: right;\n",
       "    }\n",
       "</style>\n",
       "<table border=\"1\" class=\"dataframe\">\n",
       "  <thead>\n",
       "    <tr style=\"text-align: right;\">\n",
       "      <th></th>\n",
       "      <th>Description</th>\n",
       "      <th>Price</th>\n",
       "      <th>Rating</th>\n",
       "      <th>ReviewCount</th>\n",
       "      <th>Url</th>\n",
       "      <th>Name</th>\n",
       "    </tr>\n",
       "  </thead>\n",
       "  <tbody>\n",
       "    <tr>\n",
       "      <th>0</th>\n",
       "      <td>Apple iPhone 13 (128GB) - Pink</td>\n",
       "      <td>65999</td>\n",
       "      <td>4.6 out of 5 stars</td>\n",
       "      <td>7,507</td>\n",
       "      <td>https://www.amazon.in//sspa/click?ie=UTF8&amp;spc=...</td>\n",
       "      <td>Apple</td>\n",
       "    </tr>\n",
       "    <tr>\n",
       "      <th>1</th>\n",
       "      <td>Apple iPhone 13 Mini (128GB) - Pink</td>\n",
       "      <td>64900</td>\n",
       "      <td>4.5 out of 5 stars</td>\n",
       "      <td>1,341</td>\n",
       "      <td>https://www.amazon.in//sspa/click?ie=UTF8&amp;spc=...</td>\n",
       "      <td>Apple</td>\n",
       "    </tr>\n",
       "    <tr>\n",
       "      <th>2</th>\n",
       "      <td>Apple iPhone 12 (128GB) - Green</td>\n",
       "      <td>55999</td>\n",
       "      <td>4.5 out of 5 stars</td>\n",
       "      <td>4,941</td>\n",
       "      <td>https://www.amazon.in//New-Apple-iPhone-12-128...</td>\n",
       "      <td>Apple</td>\n",
       "    </tr>\n",
       "    <tr>\n",
       "      <th>3</th>\n",
       "      <td>Apple iPhone 12 (64GB) - Green</td>\n",
       "      <td>48900</td>\n",
       "      <td>4.6 out of 5 stars</td>\n",
       "      <td>1,299</td>\n",
       "      <td>https://www.amazon.in//New-Apple-iPhone-12-64G...</td>\n",
       "      <td>Apple</td>\n",
       "    </tr>\n",
       "    <tr>\n",
       "      <th>4</th>\n",
       "      <td>Apple iPhone 13 (128GB) - Green</td>\n",
       "      <td>65999</td>\n",
       "      <td>4.6 out of 5 stars</td>\n",
       "      <td>7,507</td>\n",
       "      <td>https://www.amazon.in//Apple-iPhone-13-128GB-G...</td>\n",
       "      <td>Apple</td>\n",
       "    </tr>\n",
       "  </tbody>\n",
       "</table>\n",
       "</div>"
      ],
      "text/plain": [
       "                           Description  Price              Rating ReviewCount  \\\n",
       "0       Apple iPhone 13 (128GB) - Pink  65999  4.6 out of 5 stars       7,507   \n",
       "1  Apple iPhone 13 Mini (128GB) - Pink  64900  4.5 out of 5 stars       1,341   \n",
       "2      Apple iPhone 12 (128GB) - Green  55999  4.5 out of 5 stars       4,941   \n",
       "3       Apple iPhone 12 (64GB) - Green  48900  4.6 out of 5 stars       1,299   \n",
       "4      Apple iPhone 13 (128GB) - Green  65999  4.6 out of 5 stars       7,507   \n",
       "\n",
       "                                                 Url   Name  \n",
       "0  https://www.amazon.in//sspa/click?ie=UTF8&spc=...  Apple  \n",
       "1  https://www.amazon.in//sspa/click?ie=UTF8&spc=...  Apple  \n",
       "2  https://www.amazon.in//New-Apple-iPhone-12-128...  Apple  \n",
       "3  https://www.amazon.in//New-Apple-iPhone-12-64G...  Apple  \n",
       "4  https://www.amazon.in//Apple-iPhone-13-128GB-G...  Apple  "
      ]
     },
     "execution_count": 8,
     "metadata": {},
     "output_type": "execute_result"
    }
   ],
   "source": [
    "df.head(5)"
   ]
  },
  {
   "cell_type": "markdown",
   "metadata": {},
   "source": [
    "### Drop and Rearrange columns"
   ]
  },
  {
   "cell_type": "code",
   "execution_count": 9,
   "metadata": {},
   "outputs": [],
   "source": [
    "top5_mobile_company = df[['Name','Price','Rating','ReviewCount','Description']]"
   ]
  },
  {
   "cell_type": "code",
   "execution_count": 10,
   "metadata": {},
   "outputs": [
    {
     "data": {
      "text/html": [
       "<div>\n",
       "<style scoped>\n",
       "    .dataframe tbody tr th:only-of-type {\n",
       "        vertical-align: middle;\n",
       "    }\n",
       "\n",
       "    .dataframe tbody tr th {\n",
       "        vertical-align: top;\n",
       "    }\n",
       "\n",
       "    .dataframe thead th {\n",
       "        text-align: right;\n",
       "    }\n",
       "</style>\n",
       "<table border=\"1\" class=\"dataframe\">\n",
       "  <thead>\n",
       "    <tr style=\"text-align: right;\">\n",
       "      <th></th>\n",
       "      <th>Name</th>\n",
       "      <th>Price</th>\n",
       "      <th>Rating</th>\n",
       "      <th>ReviewCount</th>\n",
       "      <th>Description</th>\n",
       "    </tr>\n",
       "  </thead>\n",
       "  <tbody>\n",
       "    <tr>\n",
       "      <th>0</th>\n",
       "      <td>Apple</td>\n",
       "      <td>65999</td>\n",
       "      <td>4.6 out of 5 stars</td>\n",
       "      <td>7,507</td>\n",
       "      <td>Apple iPhone 13 (128GB) - Pink</td>\n",
       "    </tr>\n",
       "    <tr>\n",
       "      <th>1</th>\n",
       "      <td>Apple</td>\n",
       "      <td>64900</td>\n",
       "      <td>4.5 out of 5 stars</td>\n",
       "      <td>1,341</td>\n",
       "      <td>Apple iPhone 13 Mini (128GB) - Pink</td>\n",
       "    </tr>\n",
       "  </tbody>\n",
       "</table>\n",
       "</div>"
      ],
      "text/plain": [
       "    Name  Price              Rating ReviewCount  \\\n",
       "0  Apple  65999  4.6 out of 5 stars       7,507   \n",
       "1  Apple  64900  4.5 out of 5 stars       1,341   \n",
       "\n",
       "                           Description  \n",
       "0       Apple iPhone 13 (128GB) - Pink  \n",
       "1  Apple iPhone 13 Mini (128GB) - Pink  "
      ]
     },
     "execution_count": 10,
     "metadata": {},
     "output_type": "execute_result"
    }
   ],
   "source": [
    "top5_mobile_company.head(2)"
   ]
  },
  {
   "cell_type": "code",
   "execution_count": 11,
   "metadata": {},
   "outputs": [
    {
     "data": {
      "text/plain": [
       "Name            0\n",
       "Price           0\n",
       "Rating         22\n",
       "ReviewCount     0\n",
       "Description     0\n",
       "dtype: int64"
      ]
     },
     "execution_count": 11,
     "metadata": {},
     "output_type": "execute_result"
    }
   ],
   "source": [
    "top5_mobile_company.isnull().sum()"
   ]
  },
  {
   "cell_type": "code",
   "execution_count": 12,
   "metadata": {},
   "outputs": [
    {
     "data": {
      "text/plain": [
       "1810"
      ]
     },
     "execution_count": 12,
     "metadata": {},
     "output_type": "execute_result"
    }
   ],
   "source": [
    "top5_mobile_company.duplicated().sum()"
   ]
  },
  {
   "cell_type": "markdown",
   "metadata": {},
   "source": []
  },
  {
   "cell_type": "code",
   "execution_count": 13,
   "metadata": {},
   "outputs": [
    {
     "data": {
      "text/plain": [
       "14"
      ]
     },
     "execution_count": 13,
     "metadata": {},
     "output_type": "execute_result"
    }
   ],
   "source": [
    "top5_mobile_company['Name'].nunique()"
   ]
  },
  {
   "cell_type": "code",
   "execution_count": 14,
   "metadata": {},
   "outputs": [
    {
     "data": {
      "text/plain": [
       "array(['Apple', 'Samsung', 'SAMSUNG', 'Lava', 'Redmi', '(Renewed)',\n",
       "       'Xiaomi', 'MI', 'OPPO', 'Oppo', 'BTC-6', 'vivo', 'Vivo', 'IKALL'],\n",
       "      dtype=object)"
      ]
     },
     "execution_count": 14,
     "metadata": {},
     "output_type": "execute_result"
    }
   ],
   "source": [
    "top5_mobile_company['Name'].unique()"
   ]
  },
  {
   "cell_type": "code",
   "execution_count": 15,
   "metadata": {},
   "outputs": [],
   "source": [
    "top5_mobile_company = df"
   ]
  },
  {
   "cell_type": "code",
   "execution_count": 16,
   "metadata": {},
   "outputs": [
    {
     "data": {
      "text/html": [
       "<div>\n",
       "<style scoped>\n",
       "    .dataframe tbody tr th:only-of-type {\n",
       "        vertical-align: middle;\n",
       "    }\n",
       "\n",
       "    .dataframe tbody tr th {\n",
       "        vertical-align: top;\n",
       "    }\n",
       "\n",
       "    .dataframe thead th {\n",
       "        text-align: right;\n",
       "    }\n",
       "</style>\n",
       "<table border=\"1\" class=\"dataframe\">\n",
       "  <thead>\n",
       "    <tr style=\"text-align: right;\">\n",
       "      <th></th>\n",
       "      <th>Description</th>\n",
       "      <th>Price</th>\n",
       "      <th>Rating</th>\n",
       "      <th>ReviewCount</th>\n",
       "      <th>Url</th>\n",
       "      <th>Name</th>\n",
       "    </tr>\n",
       "  </thead>\n",
       "  <tbody>\n",
       "    <tr>\n",
       "      <th>1542</th>\n",
       "      <td>vivo Y22 (Starlit Blue, 6GB RAM, 128GB Storage...</td>\n",
       "      <td>16499</td>\n",
       "      <td>3.6 out of 5 stars</td>\n",
       "      <td>28</td>\n",
       "      <td>https://www.amazon.in//Starlit-Storage-Additio...</td>\n",
       "      <td>vivo</td>\n",
       "    </tr>\n",
       "    <tr>\n",
       "      <th>1543</th>\n",
       "      <td>vivo Y22 (Metaverse Green, 4GB RAM, 64GB Stora...</td>\n",
       "      <td>14499</td>\n",
       "      <td>3.6 out of 5 stars</td>\n",
       "      <td>28</td>\n",
       "      <td>https://www.amazon.in//Metaverse-Storage-Addit...</td>\n",
       "      <td>vivo</td>\n",
       "    </tr>\n",
       "    <tr>\n",
       "      <th>1545</th>\n",
       "      <td>vivo Y35 (Dawn Gold, 8GB RAM, 128GB Storage) w...</td>\n",
       "      <td>18499</td>\n",
       "      <td>4.1 out of 5 stars</td>\n",
       "      <td>92</td>\n",
       "      <td>https://www.amazon.in//128GB-Storage-Additiona...</td>\n",
       "      <td>vivo</td>\n",
       "    </tr>\n",
       "    <tr>\n",
       "      <th>1547</th>\n",
       "      <td>vivo Y16 (Drizzling Gold, 3GB RAM, 64GB Storag...</td>\n",
       "      <td>10499</td>\n",
       "      <td>3.0 out of 5 stars</td>\n",
       "      <td>3</td>\n",
       "      <td>https://www.amazon.in//Drizzling-Storage-Addit...</td>\n",
       "      <td>vivo</td>\n",
       "    </tr>\n",
       "    <tr>\n",
       "      <th>1550</th>\n",
       "      <td>vivo Y22 (Starlit Blue, 4GB RAM, 64GB Storage)...</td>\n",
       "      <td>14499</td>\n",
       "      <td>3.6 out of 5 stars</td>\n",
       "      <td>28</td>\n",
       "      <td>https://www.amazon.in//Starlit-Storage-Additio...</td>\n",
       "      <td>vivo</td>\n",
       "    </tr>\n",
       "    <tr>\n",
       "      <th>...</th>\n",
       "      <td>...</td>\n",
       "      <td>...</td>\n",
       "      <td>...</td>\n",
       "      <td>...</td>\n",
       "      <td>...</td>\n",
       "      <td>...</td>\n",
       "    </tr>\n",
       "    <tr>\n",
       "      <th>1893</th>\n",
       "      <td>vivo Y22 (Starlit Blue, 4GB RAM, 64GB Storage)...</td>\n",
       "      <td>14499</td>\n",
       "      <td>3.6 out of 5 stars</td>\n",
       "      <td>28</td>\n",
       "      <td>https://www.amazon.in//Starlit-Storage-Additio...</td>\n",
       "      <td>vivo</td>\n",
       "    </tr>\n",
       "    <tr>\n",
       "      <th>1894</th>\n",
       "      <td>vivo Y15s Mystic Blue (3GB RAM &amp; 32GB ROM) wit...</td>\n",
       "      <td>9499</td>\n",
       "      <td>4.1 out of 5 stars</td>\n",
       "      <td>458</td>\n",
       "      <td>https://www.amazon.in//vivo-Mystic-Additional-...</td>\n",
       "      <td>vivo</td>\n",
       "    </tr>\n",
       "    <tr>\n",
       "      <th>1899</th>\n",
       "      <td>vivo Y22 (Metaverse Green, 6GB RAM, 128GB Stor...</td>\n",
       "      <td>16499</td>\n",
       "      <td>3.6 out of 5 stars</td>\n",
       "      <td>28</td>\n",
       "      <td>https://www.amazon.in//Y22-Metaverse-Storage-A...</td>\n",
       "      <td>vivo</td>\n",
       "    </tr>\n",
       "    <tr>\n",
       "      <th>1901</th>\n",
       "      <td>vivo Y35 (Agate Black, 8GB RAM, 128GB Storage)...</td>\n",
       "      <td>18499</td>\n",
       "      <td>4.1 out of 5 stars</td>\n",
       "      <td>92</td>\n",
       "      <td>https://www.amazon.in//Agate-Storage-Additiona...</td>\n",
       "      <td>vivo</td>\n",
       "    </tr>\n",
       "    <tr>\n",
       "      <th>1902</th>\n",
       "      <td>vivo Y16 (Stellar Black, 3GB RAM, 32GB Storage...</td>\n",
       "      <td>9999</td>\n",
       "      <td>4.0 out of 5 stars</td>\n",
       "      <td>1</td>\n",
       "      <td>https://www.amazon.in//Stellar-Storage-Additio...</td>\n",
       "      <td>vivo</td>\n",
       "    </tr>\n",
       "  </tbody>\n",
       "</table>\n",
       "<p>180 rows × 6 columns</p>\n",
       "</div>"
      ],
      "text/plain": [
       "                                            Description  Price  \\\n",
       "1542  vivo Y22 (Starlit Blue, 6GB RAM, 128GB Storage...  16499   \n",
       "1543  vivo Y22 (Metaverse Green, 4GB RAM, 64GB Stora...  14499   \n",
       "1545  vivo Y35 (Dawn Gold, 8GB RAM, 128GB Storage) w...  18499   \n",
       "1547  vivo Y16 (Drizzling Gold, 3GB RAM, 64GB Storag...  10499   \n",
       "1550  vivo Y22 (Starlit Blue, 4GB RAM, 64GB Storage)...  14499   \n",
       "...                                                 ...    ...   \n",
       "1893  vivo Y22 (Starlit Blue, 4GB RAM, 64GB Storage)...  14499   \n",
       "1894  vivo Y15s Mystic Blue (3GB RAM & 32GB ROM) wit...   9499   \n",
       "1899  vivo Y22 (Metaverse Green, 6GB RAM, 128GB Stor...  16499   \n",
       "1901  vivo Y35 (Agate Black, 8GB RAM, 128GB Storage)...  18499   \n",
       "1902  vivo Y16 (Stellar Black, 3GB RAM, 32GB Storage...   9999   \n",
       "\n",
       "                  Rating ReviewCount  \\\n",
       "1542  3.6 out of 5 stars          28   \n",
       "1543  3.6 out of 5 stars          28   \n",
       "1545  4.1 out of 5 stars          92   \n",
       "1547  3.0 out of 5 stars           3   \n",
       "1550  3.6 out of 5 stars          28   \n",
       "...                  ...         ...   \n",
       "1893  3.6 out of 5 stars          28   \n",
       "1894  4.1 out of 5 stars         458   \n",
       "1899  3.6 out of 5 stars          28   \n",
       "1901  4.1 out of 5 stars          92   \n",
       "1902  4.0 out of 5 stars           1   \n",
       "\n",
       "                                                    Url  Name  \n",
       "1542  https://www.amazon.in//Starlit-Storage-Additio...  vivo  \n",
       "1543  https://www.amazon.in//Metaverse-Storage-Addit...  vivo  \n",
       "1545  https://www.amazon.in//128GB-Storage-Additiona...  vivo  \n",
       "1547  https://www.amazon.in//Drizzling-Storage-Addit...  vivo  \n",
       "1550  https://www.amazon.in//Starlit-Storage-Additio...  vivo  \n",
       "...                                                 ...   ...  \n",
       "1893  https://www.amazon.in//Starlit-Storage-Additio...  vivo  \n",
       "1894  https://www.amazon.in//vivo-Mystic-Additional-...  vivo  \n",
       "1899  https://www.amazon.in//Y22-Metaverse-Storage-A...  vivo  \n",
       "1901  https://www.amazon.in//Agate-Storage-Additiona...  vivo  \n",
       "1902  https://www.amazon.in//Stellar-Storage-Additio...  vivo  \n",
       "\n",
       "[180 rows x 6 columns]"
      ]
     },
     "execution_count": 16,
     "metadata": {},
     "output_type": "execute_result"
    }
   ],
   "source": [
    "df.loc[df['Name']== 'SAMSUNG'] = 'Samsung'\n",
    "df.loc[df['Name']== 'OPPO'] = 'Oppo'\n",
    "df.loc[df['Name']== 'MI'] = 'Xiaomi'\n",
    "df.loc[df['Name']== 'vivo']"
   ]
  },
  {
   "cell_type": "code",
   "execution_count": 17,
   "metadata": {},
   "outputs": [
    {
     "data": {
      "text/plain": [
       "array(['Apple', 'Samsung', 'Lava', 'Redmi', '(Renewed)', 'Xiaomi', 'Oppo',\n",
       "       'BTC-6', 'vivo', 'Vivo', 'IKALL'], dtype=object)"
      ]
     },
     "execution_count": 17,
     "metadata": {},
     "output_type": "execute_result"
    }
   ],
   "source": [
    "df['Name'].unique()"
   ]
  },
  {
   "cell_type": "code",
   "execution_count": 18,
   "metadata": {},
   "outputs": [
    {
     "name": "stderr",
     "output_type": "stream",
     "text": [
      "C:\\Users\\SAYAN KARMAKAR\\AppData\\Local\\Temp\\ipykernel_10328\\1431993524.py:3: UserWarning: This pattern is interpreted as a regular expression, and has match groups. To actually get the groups, use str.extract.\n",
      "  df = df.loc[~df['Name'].str.contains('(Renewed)')]\n"
     ]
    }
   ],
   "source": [
    "df = df.loc[~df['Name'].str.contains('IKALL')]\n",
    "df = df.loc[~df['Name'].str.contains('BTC-6')]\n",
    "df = df.loc[~df['Name'].str.contains('(Renewed)')]"
   ]
  },
  {
   "cell_type": "code",
   "execution_count": 19,
   "metadata": {},
   "outputs": [
    {
     "data": {
      "text/plain": [
       "array(['Apple', 'Samsung', 'Lava', 'Redmi', 'Xiaomi', 'Oppo', 'vivo',\n",
       "       'Vivo'], dtype=object)"
      ]
     },
     "execution_count": 19,
     "metadata": {},
     "output_type": "execute_result"
    }
   ],
   "source": [
    "df['Name'].unique()"
   ]
  },
  {
   "cell_type": "code",
   "execution_count": null,
   "metadata": {},
   "outputs": [],
   "source": []
  },
  {
   "cell_type": "code",
   "execution_count": 20,
   "metadata": {},
   "outputs": [
    {
     "data": {
      "text/html": [
       "<div>\n",
       "<style scoped>\n",
       "    .dataframe tbody tr th:only-of-type {\n",
       "        vertical-align: middle;\n",
       "    }\n",
       "\n",
       "    .dataframe tbody tr th {\n",
       "        vertical-align: top;\n",
       "    }\n",
       "\n",
       "    .dataframe thead th {\n",
       "        text-align: right;\n",
       "    }\n",
       "</style>\n",
       "<table border=\"1\" class=\"dataframe\">\n",
       "  <thead>\n",
       "    <tr style=\"text-align: right;\">\n",
       "      <th></th>\n",
       "      <th>Description</th>\n",
       "      <th>Price</th>\n",
       "      <th>Rating</th>\n",
       "      <th>ReviewCount</th>\n",
       "      <th>Url</th>\n",
       "      <th>Name</th>\n",
       "    </tr>\n",
       "  </thead>\n",
       "  <tbody>\n",
       "    <tr>\n",
       "      <th>0</th>\n",
       "      <td>Apple iPhone 13 (128GB) - Pink</td>\n",
       "      <td>65999</td>\n",
       "      <td>4.6 out of 5 stars</td>\n",
       "      <td>7,507</td>\n",
       "      <td>https://www.amazon.in//sspa/click?ie=UTF8&amp;spc=...</td>\n",
       "      <td>Apple</td>\n",
       "    </tr>\n",
       "    <tr>\n",
       "      <th>1</th>\n",
       "      <td>Apple iPhone 13 Mini (128GB) - Pink</td>\n",
       "      <td>64900</td>\n",
       "      <td>4.5 out of 5 stars</td>\n",
       "      <td>1,341</td>\n",
       "      <td>https://www.amazon.in//sspa/click?ie=UTF8&amp;spc=...</td>\n",
       "      <td>Apple</td>\n",
       "    </tr>\n",
       "    <tr>\n",
       "      <th>2</th>\n",
       "      <td>Apple iPhone 12 (128GB) - Green</td>\n",
       "      <td>55999</td>\n",
       "      <td>4.5 out of 5 stars</td>\n",
       "      <td>4,941</td>\n",
       "      <td>https://www.amazon.in//New-Apple-iPhone-12-128...</td>\n",
       "      <td>Apple</td>\n",
       "    </tr>\n",
       "    <tr>\n",
       "      <th>3</th>\n",
       "      <td>Apple iPhone 12 (64GB) - Green</td>\n",
       "      <td>48900</td>\n",
       "      <td>4.6 out of 5 stars</td>\n",
       "      <td>1,299</td>\n",
       "      <td>https://www.amazon.in//New-Apple-iPhone-12-64G...</td>\n",
       "      <td>Apple</td>\n",
       "    </tr>\n",
       "    <tr>\n",
       "      <th>4</th>\n",
       "      <td>Apple iPhone 13 (128GB) - Green</td>\n",
       "      <td>65999</td>\n",
       "      <td>4.6 out of 5 stars</td>\n",
       "      <td>7,507</td>\n",
       "      <td>https://www.amazon.in//Apple-iPhone-13-128GB-G...</td>\n",
       "      <td>Apple</td>\n",
       "    </tr>\n",
       "  </tbody>\n",
       "</table>\n",
       "</div>"
      ],
      "text/plain": [
       "                           Description  Price              Rating ReviewCount  \\\n",
       "0       Apple iPhone 13 (128GB) - Pink  65999  4.6 out of 5 stars       7,507   \n",
       "1  Apple iPhone 13 Mini (128GB) - Pink  64900  4.5 out of 5 stars       1,341   \n",
       "2      Apple iPhone 12 (128GB) - Green  55999  4.5 out of 5 stars       4,941   \n",
       "3       Apple iPhone 12 (64GB) - Green  48900  4.6 out of 5 stars       1,299   \n",
       "4      Apple iPhone 13 (128GB) - Green  65999  4.6 out of 5 stars       7,507   \n",
       "\n",
       "                                                 Url   Name  \n",
       "0  https://www.amazon.in//sspa/click?ie=UTF8&spc=...  Apple  \n",
       "1  https://www.amazon.in//sspa/click?ie=UTF8&spc=...  Apple  \n",
       "2  https://www.amazon.in//New-Apple-iPhone-12-128...  Apple  \n",
       "3  https://www.amazon.in//New-Apple-iPhone-12-64G...  Apple  \n",
       "4  https://www.amazon.in//Apple-iPhone-13-128GB-G...  Apple  "
      ]
     },
     "execution_count": 20,
     "metadata": {},
     "output_type": "execute_result"
    }
   ],
   "source": [
    "df.head(5)"
   ]
  },
  {
   "cell_type": "code",
   "execution_count": 21,
   "metadata": {},
   "outputs": [],
   "source": [
    "end_work = df[['Name','Description','Price','Rating','ReviewCount']]"
   ]
  },
  {
   "cell_type": "code",
   "execution_count": 22,
   "metadata": {},
   "outputs": [
    {
     "data": {
      "text/html": [
       "<div>\n",
       "<style scoped>\n",
       "    .dataframe tbody tr th:only-of-type {\n",
       "        vertical-align: middle;\n",
       "    }\n",
       "\n",
       "    .dataframe tbody tr th {\n",
       "        vertical-align: top;\n",
       "    }\n",
       "\n",
       "    .dataframe thead th {\n",
       "        text-align: right;\n",
       "    }\n",
       "</style>\n",
       "<table border=\"1\" class=\"dataframe\">\n",
       "  <thead>\n",
       "    <tr style=\"text-align: right;\">\n",
       "      <th></th>\n",
       "      <th>Name</th>\n",
       "      <th>Description</th>\n",
       "      <th>Price</th>\n",
       "      <th>Rating</th>\n",
       "      <th>ReviewCount</th>\n",
       "    </tr>\n",
       "  </thead>\n",
       "  <tbody>\n",
       "    <tr>\n",
       "      <th>0</th>\n",
       "      <td>Apple</td>\n",
       "      <td>Apple iPhone 13 (128GB) - Pink</td>\n",
       "      <td>65999</td>\n",
       "      <td>4.6 out of 5 stars</td>\n",
       "      <td>7,507</td>\n",
       "    </tr>\n",
       "    <tr>\n",
       "      <th>1</th>\n",
       "      <td>Apple</td>\n",
       "      <td>Apple iPhone 13 Mini (128GB) - Pink</td>\n",
       "      <td>64900</td>\n",
       "      <td>4.5 out of 5 stars</td>\n",
       "      <td>1,341</td>\n",
       "    </tr>\n",
       "    <tr>\n",
       "      <th>2</th>\n",
       "      <td>Apple</td>\n",
       "      <td>Apple iPhone 12 (128GB) - Green</td>\n",
       "      <td>55999</td>\n",
       "      <td>4.5 out of 5 stars</td>\n",
       "      <td>4,941</td>\n",
       "    </tr>\n",
       "    <tr>\n",
       "      <th>3</th>\n",
       "      <td>Apple</td>\n",
       "      <td>Apple iPhone 12 (64GB) - Green</td>\n",
       "      <td>48900</td>\n",
       "      <td>4.6 out of 5 stars</td>\n",
       "      <td>1,299</td>\n",
       "    </tr>\n",
       "    <tr>\n",
       "      <th>4</th>\n",
       "      <td>Apple</td>\n",
       "      <td>Apple iPhone 13 (128GB) - Green</td>\n",
       "      <td>65999</td>\n",
       "      <td>4.6 out of 5 stars</td>\n",
       "      <td>7,507</td>\n",
       "    </tr>\n",
       "  </tbody>\n",
       "</table>\n",
       "</div>"
      ],
      "text/plain": [
       "    Name                          Description  Price              Rating  \\\n",
       "0  Apple       Apple iPhone 13 (128GB) - Pink  65999  4.6 out of 5 stars   \n",
       "1  Apple  Apple iPhone 13 Mini (128GB) - Pink  64900  4.5 out of 5 stars   \n",
       "2  Apple      Apple iPhone 12 (128GB) - Green  55999  4.5 out of 5 stars   \n",
       "3  Apple       Apple iPhone 12 (64GB) - Green  48900  4.6 out of 5 stars   \n",
       "4  Apple      Apple iPhone 13 (128GB) - Green  65999  4.6 out of 5 stars   \n",
       "\n",
       "  ReviewCount  \n",
       "0       7,507  \n",
       "1       1,341  \n",
       "2       4,941  \n",
       "3       1,299  \n",
       "4       7,507  "
      ]
     },
     "execution_count": 22,
     "metadata": {},
     "output_type": "execute_result"
    }
   ],
   "source": [
    "end_work.head(5)"
   ]
  },
  {
   "cell_type": "code",
   "execution_count": 23,
   "metadata": {},
   "outputs": [
    {
     "data": {
      "text/plain": [
       "Name           object\n",
       "Description    object\n",
       "Price          object\n",
       "Rating         object\n",
       "ReviewCount    object\n",
       "dtype: object"
      ]
     },
     "execution_count": 23,
     "metadata": {},
     "output_type": "execute_result"
    }
   ],
   "source": [
    "end_work.dtypes"
   ]
  },
  {
   "cell_type": "code",
   "execution_count": 24,
   "metadata": {},
   "outputs": [],
   "source": [
    "#end_work.loc[end_work['Rating']== 'Samsung']\n",
    "end_work = end_work.loc[~end_work['Rating'].str.contains('Samsung')]"
   ]
  },
  {
   "cell_type": "code",
   "execution_count": 25,
   "metadata": {},
   "outputs": [],
   "source": [
    "#end_work.loc[end_work['Rating']== 'Xiaomi']\n",
    "end_work = end_work.loc[~end_work['Rating'].str.contains('Xiaomi')]"
   ]
  },
  {
   "cell_type": "code",
   "execution_count": 26,
   "metadata": {
    "vscode": {
     "languageId": "ruby"
    }
   },
   "outputs": [],
   "source": [
    "#end_work.loc[end_work['Rating']== 'Oppo']\n",
    "end_work = end_work.loc[~end_work['Rating'].str.contains('Oppo')]"
   ]
  },
  {
   "cell_type": "code",
   "execution_count": 27,
   "metadata": {
    "vscode": {
     "languageId": "ruby"
    }
   },
   "outputs": [],
   "source": [
    "end_work['ReviewCount'] = end_work['ReviewCount'].str.replace(',','')"
   ]
  },
  {
   "cell_type": "code",
   "execution_count": 28,
   "metadata": {},
   "outputs": [],
   "source": [
    "end_work['Price'] = pd.to_numeric(end_work['Price'])\n",
    "end_work['ReviewCount'] = pd.to_numeric(end_work['ReviewCount'])"
   ]
  },
  {
   "cell_type": "code",
   "execution_count": 29,
   "metadata": {},
   "outputs": [],
   "source": [
    "end_work['Rating'] = end_work['Rating'].str.replace('out of 5 stars','')"
   ]
  },
  {
   "cell_type": "code",
   "execution_count": 30,
   "metadata": {},
   "outputs": [],
   "source": [
    "end_work['Rating'] = pd.to_numeric(end_work['Rating'])"
   ]
  },
  {
   "cell_type": "code",
   "execution_count": 31,
   "metadata": {},
   "outputs": [
    {
     "data": {
      "text/plain": [
       "Name            object\n",
       "Description     object\n",
       "Price            int64\n",
       "Rating         float64\n",
       "ReviewCount      int64\n",
       "dtype: object"
      ]
     },
     "execution_count": 31,
     "metadata": {},
     "output_type": "execute_result"
    }
   ],
   "source": [
    "end_work.dtypes"
   ]
  },
  {
   "cell_type": "code",
   "execution_count": 32,
   "metadata": {},
   "outputs": [
    {
     "data": {
      "text/html": [
       "<div>\n",
       "<style scoped>\n",
       "    .dataframe tbody tr th:only-of-type {\n",
       "        vertical-align: middle;\n",
       "    }\n",
       "\n",
       "    .dataframe tbody tr th {\n",
       "        vertical-align: top;\n",
       "    }\n",
       "\n",
       "    .dataframe thead th {\n",
       "        text-align: right;\n",
       "    }\n",
       "</style>\n",
       "<table border=\"1\" class=\"dataframe\">\n",
       "  <thead>\n",
       "    <tr style=\"text-align: right;\">\n",
       "      <th></th>\n",
       "      <th>Name</th>\n",
       "      <th>Description</th>\n",
       "      <th>Price</th>\n",
       "      <th>Rating</th>\n",
       "      <th>ReviewCount</th>\n",
       "    </tr>\n",
       "  </thead>\n",
       "  <tbody>\n",
       "    <tr>\n",
       "      <th>0</th>\n",
       "      <td>Apple</td>\n",
       "      <td>Apple iPhone 13 (128GB) - Pink</td>\n",
       "      <td>65999</td>\n",
       "      <td>4.6</td>\n",
       "      <td>7507</td>\n",
       "    </tr>\n",
       "    <tr>\n",
       "      <th>1</th>\n",
       "      <td>Apple</td>\n",
       "      <td>Apple iPhone 13 Mini (128GB) - Pink</td>\n",
       "      <td>64900</td>\n",
       "      <td>4.5</td>\n",
       "      <td>1341</td>\n",
       "    </tr>\n",
       "    <tr>\n",
       "      <th>2</th>\n",
       "      <td>Apple</td>\n",
       "      <td>Apple iPhone 12 (128GB) - Green</td>\n",
       "      <td>55999</td>\n",
       "      <td>4.5</td>\n",
       "      <td>4941</td>\n",
       "    </tr>\n",
       "    <tr>\n",
       "      <th>3</th>\n",
       "      <td>Apple</td>\n",
       "      <td>Apple iPhone 12 (64GB) - Green</td>\n",
       "      <td>48900</td>\n",
       "      <td>4.6</td>\n",
       "      <td>1299</td>\n",
       "    </tr>\n",
       "    <tr>\n",
       "      <th>4</th>\n",
       "      <td>Apple</td>\n",
       "      <td>Apple iPhone 13 (128GB) - Green</td>\n",
       "      <td>65999</td>\n",
       "      <td>4.6</td>\n",
       "      <td>7507</td>\n",
       "    </tr>\n",
       "  </tbody>\n",
       "</table>\n",
       "</div>"
      ],
      "text/plain": [
       "    Name                          Description  Price  Rating  ReviewCount\n",
       "0  Apple       Apple iPhone 13 (128GB) - Pink  65999     4.6         7507\n",
       "1  Apple  Apple iPhone 13 Mini (128GB) - Pink  64900     4.5         1341\n",
       "2  Apple      Apple iPhone 12 (128GB) - Green  55999     4.5         4941\n",
       "3  Apple       Apple iPhone 12 (64GB) - Green  48900     4.6         1299\n",
       "4  Apple      Apple iPhone 13 (128GB) - Green  65999     4.6         7507"
      ]
     },
     "execution_count": 32,
     "metadata": {},
     "output_type": "execute_result"
    }
   ],
   "source": [
    "end_work.head(5)"
   ]
  },
  {
   "cell_type": "code",
   "execution_count": 33,
   "metadata": {},
   "outputs": [],
   "source": [
    "end_work.to_csv('mobile_data.csv')"
   ]
  },
  {
   "cell_type": "code",
   "execution_count": 34,
   "metadata": {},
   "outputs": [
    {
     "data": {
      "text/html": [
       "<div>\n",
       "<style scoped>\n",
       "    .dataframe tbody tr th:only-of-type {\n",
       "        vertical-align: middle;\n",
       "    }\n",
       "\n",
       "    .dataframe tbody tr th {\n",
       "        vertical-align: top;\n",
       "    }\n",
       "\n",
       "    .dataframe thead th {\n",
       "        text-align: right;\n",
       "    }\n",
       "</style>\n",
       "<table border=\"1\" class=\"dataframe\">\n",
       "  <thead>\n",
       "    <tr style=\"text-align: right;\">\n",
       "      <th></th>\n",
       "      <th>Price</th>\n",
       "      <th>Rating</th>\n",
       "      <th>ReviewCount</th>\n",
       "    </tr>\n",
       "  </thead>\n",
       "  <tbody>\n",
       "    <tr>\n",
       "      <th>count</th>\n",
       "      <td>1421.000000</td>\n",
       "      <td>1421.000000</td>\n",
       "      <td>1421.000000</td>\n",
       "    </tr>\n",
       "    <tr>\n",
       "      <th>mean</th>\n",
       "      <td>31576.748065</td>\n",
       "      <td>4.163969</td>\n",
       "      <td>17394.049965</td>\n",
       "    </tr>\n",
       "    <tr>\n",
       "      <th>std</th>\n",
       "      <td>25129.941067</td>\n",
       "      <td>0.343547</td>\n",
       "      <td>39424.275921</td>\n",
       "    </tr>\n",
       "    <tr>\n",
       "      <th>min</th>\n",
       "      <td>7880.000000</td>\n",
       "      <td>3.000000</td>\n",
       "      <td>1.000000</td>\n",
       "    </tr>\n",
       "    <tr>\n",
       "      <th>25%</th>\n",
       "      <td>12999.000000</td>\n",
       "      <td>4.000000</td>\n",
       "      <td>130.000000</td>\n",
       "    </tr>\n",
       "    <tr>\n",
       "      <th>50%</th>\n",
       "      <td>19999.000000</td>\n",
       "      <td>4.100000</td>\n",
       "      <td>4941.000000</td>\n",
       "    </tr>\n",
       "    <tr>\n",
       "      <th>75%</th>\n",
       "      <td>48900.000000</td>\n",
       "      <td>4.500000</td>\n",
       "      <td>18423.000000</td>\n",
       "    </tr>\n",
       "    <tr>\n",
       "      <th>max</th>\n",
       "      <td>111900.000000</td>\n",
       "      <td>5.000000</td>\n",
       "      <td>304898.000000</td>\n",
       "    </tr>\n",
       "  </tbody>\n",
       "</table>\n",
       "</div>"
      ],
      "text/plain": [
       "               Price       Rating    ReviewCount\n",
       "count    1421.000000  1421.000000    1421.000000\n",
       "mean    31576.748065     4.163969   17394.049965\n",
       "std     25129.941067     0.343547   39424.275921\n",
       "min      7880.000000     3.000000       1.000000\n",
       "25%     12999.000000     4.000000     130.000000\n",
       "50%     19999.000000     4.100000    4941.000000\n",
       "75%     48900.000000     4.500000   18423.000000\n",
       "max    111900.000000     5.000000  304898.000000"
      ]
     },
     "execution_count": 34,
     "metadata": {},
     "output_type": "execute_result"
    }
   ],
   "source": [
    "end_work.describe()"
   ]
  },
  {
   "cell_type": "code",
   "execution_count": 35,
   "metadata": {},
   "outputs": [
    {
     "data": {
      "text/plain": [
       "<seaborn.axisgrid.PairGrid at 0x22382049b10>"
      ]
     },
     "execution_count": 35,
     "metadata": {},
     "output_type": "execute_result"
    },
    {
     "data": {
      "image/png": "[encoded data removed]",
      "text/plain": [
       "<Figure size 622.375x540 with 12 Axes>"
      ]
     },
     "metadata": {
      "needs_background": "light"
     },
     "output_type": "display_data"
    }
   ],
   "source": [
    "sns.pairplot(end_work, hue= 'Name')"
   ]
  },
  {
   "cell_type": "code",
   "execution_count": 37,
   "metadata": {},
   "outputs": [
    {
     "ename": "TypeError",
     "evalue": "'data' must be pandas DataFrame object, not: <class 'str'>",
     "output_type": "error",
     "traceback": [
      "\u001b[1;31m---------------------------------------------------------------------------\u001b[0m",
      "\u001b[1;31mTypeError\u001b[0m                                 Traceback (most recent call last)",
      "\u001b[1;32mc:\\Users\\SAYAN KARMAKAR\\Desktop\\Stady\\Python\\phones.ipynb Cell 39\u001b[0m in \u001b[0;36m<cell line: 1>\u001b[1;34m()\u001b[0m\n\u001b[1;32m----> <a href='vscode-notebook-cell:/c%3A/Users/SAYAN%20KARMAKAR/Desktop/Stady/Python/phones.ipynb#X56sZmlsZQ%3D%3D?line=0'>1</a>\u001b[0m sns\u001b[39m.\u001b[39;49mpairplot(\u001b[39m'\u001b[39;49m\u001b[39mend_work\u001b[39;49m\u001b[39m'\u001b[39;49m)\n",
      "File \u001b[1;32mc:\\Users\\SAYAN KARMAKAR\\AppData\\Local\\Programs\\Python\\Python310\\lib\\site-packages\\seaborn\\axisgrid.py:2098\u001b[0m, in \u001b[0;36mpairplot\u001b[1;34m(data, hue, hue_order, palette, vars, x_vars, y_vars, kind, diag_kind, markers, height, aspect, corner, dropna, plot_kws, diag_kws, grid_kws, size)\u001b[0m\n\u001b[0;32m   2095\u001b[0m     warnings\u001b[39m.\u001b[39mwarn(msg, \u001b[39mUserWarning\u001b[39;00m)\n\u001b[0;32m   2097\u001b[0m \u001b[39mif\u001b[39;00m \u001b[39mnot\u001b[39;00m \u001b[39misinstance\u001b[39m(data, pd\u001b[39m.\u001b[39mDataFrame):\n\u001b[1;32m-> 2098\u001b[0m     \u001b[39mraise\u001b[39;00m \u001b[39mTypeError\u001b[39;00m(\n\u001b[0;32m   2099\u001b[0m         \u001b[39mf\u001b[39m\u001b[39m\"\u001b[39m\u001b[39m'\u001b[39m\u001b[39mdata\u001b[39m\u001b[39m'\u001b[39m\u001b[39m must be pandas DataFrame object, not: \u001b[39m\u001b[39m{\u001b[39;00m\u001b[39mtype\u001b[39m(data)\u001b[39m}\u001b[39;00m\u001b[39m\"\u001b[39m)\n\u001b[0;32m   2101\u001b[0m plot_kws \u001b[39m=\u001b[39m {} \u001b[39mif\u001b[39;00m plot_kws \u001b[39mis\u001b[39;00m \u001b[39mNone\u001b[39;00m \u001b[39melse\u001b[39;00m plot_kws\u001b[39m.\u001b[39mcopy()\n\u001b[0;32m   2102\u001b[0m diag_kws \u001b[39m=\u001b[39m {} \u001b[39mif\u001b[39;00m diag_kws \u001b[39mis\u001b[39;00m \u001b[39mNone\u001b[39;00m \u001b[39melse\u001b[39;00m diag_kws\u001b[39m.\u001b[39mcopy()\n",
      "\u001b[1;31mTypeError\u001b[0m: 'data' must be pandas DataFrame object, not: <class 'str'>"
     ]
    }
   ],
   "source": []
  },
  {
   "cell_type": "code",
   "execution_count": null,
   "metadata": {},
   "outputs": [],
   "source": []
  }
 ],
 "metadata": {
  "kernelspec": {
   "display_name": "Python 3.10.5 64-bit",
   "language": "python",
   "name": "python3"
  },
  "language_info": {
   "codemirror_mode": {
    "name": "ipython",
    "version": 3
   },
   "file_extension": ".py",
   "mimetype": "text/x-python",
   "name": "python",
   "nbconvert_exporter": "python",
   "pygments_lexer": "ipython3",
   "version": "3.10.5"
  },
  "orig_nbformat": 4,
  "vscode": {
   "interpreter": {
    "hash": "30161dd4e2a5a400700bdfdeb3455c64cecd358d5deed67ae75ea933f6812931"
   }
  }
 },
 "nbformat": 4,
 "nbformat_minor": 2
}
